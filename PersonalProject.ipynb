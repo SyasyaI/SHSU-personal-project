{
 "cells": [
  {
   "cell_type": "code",
   "execution_count": 2,
   "id": "c4a9c0df-5124-43f8-a23e-28a13f8a3a25",
   "metadata": {},
   "outputs": [],
   "source": [
    "# This Python 3 environment comes with many helpful analytics libraries installed\n",
    "# It is defined by the kaggle/python docker image: https://github.com/kaggle/docker-python\n",
    "# For example, here's several helpful packages to load in \n",
    "\n",
    "import numpy as np # linear algebra\n",
    "import pandas as pd # data processing, CSV file I/O (e.g. pd.read_csv)\n",
    "from sklearn.model_selection import train_test_split # function for splitting data to train and test sets\n",
    "\n",
    "import nltk\n",
    "from nltk.corpus import stopwords\n",
    "from nltk.classify import SklearnClassifier\n",
    "\n",
    "import matplotlib.pyplot as plt\n",
    "%matplotlib inline\n",
    "\n",
    "# Input data files are available in the \"../input/\" directory.\n",
    "# For example, running this (by clicking run or pressing Shift+Enter) will list the files in the input directory\n",
    "\n",
    "from subprocess import check_output\n"
   ]
  },
  {
   "cell_type": "code",
   "execution_count": 3,
   "id": "aaa3aa43-df3d-4617-a4f1-b14c71421736",
   "metadata": {},
   "outputs": [
    {
     "data": {
      "text/html": [
       "<div>\n",
       "<style scoped>\n",
       "    .dataframe tbody tr th:only-of-type {\n",
       "        vertical-align: middle;\n",
       "    }\n",
       "\n",
       "    .dataframe tbody tr th {\n",
       "        vertical-align: top;\n",
       "    }\n",
       "\n",
       "    .dataframe thead th {\n",
       "        text-align: right;\n",
       "    }\n",
       "</style>\n",
       "<table border=\"1\" class=\"dataframe\">\n",
       "  <thead>\n",
       "    <tr style=\"text-align: right;\">\n",
       "      <th></th>\n",
       "      <th>coffee_shop_name</th>\n",
       "      <th>full_review_text</th>\n",
       "      <th>star_rating</th>\n",
       "      <th>number_rating</th>\n",
       "    </tr>\n",
       "  </thead>\n",
       "  <tbody>\n",
       "    <tr>\n",
       "      <th>0</th>\n",
       "      <td>The Factory - Cafe With a Soul</td>\n",
       "      <td>11/25/2016 1 check-in Love love loved the atm...</td>\n",
       "      <td>5.0 star rating</td>\n",
       "      <td>5</td>\n",
       "    </tr>\n",
       "    <tr>\n",
       "      <th>1</th>\n",
       "      <td>The Factory - Cafe With a Soul</td>\n",
       "      <td>12/2/2016 Listed in Date Night: Austin, Ambia...</td>\n",
       "      <td>4.0 star rating</td>\n",
       "      <td>4</td>\n",
       "    </tr>\n",
       "    <tr>\n",
       "      <th>2</th>\n",
       "      <td>The Factory - Cafe With a Soul</td>\n",
       "      <td>11/30/2016 1 check-in Listed in Brunch Spots ...</td>\n",
       "      <td>4.0 star rating</td>\n",
       "      <td>4</td>\n",
       "    </tr>\n",
       "    <tr>\n",
       "      <th>3</th>\n",
       "      <td>The Factory - Cafe With a Soul</td>\n",
       "      <td>11/25/2016 Very cool decor! Good drinks Nice ...</td>\n",
       "      <td>2.0 star rating</td>\n",
       "      <td>2</td>\n",
       "    </tr>\n",
       "    <tr>\n",
       "      <th>4</th>\n",
       "      <td>The Factory - Cafe With a Soul</td>\n",
       "      <td>12/3/2016 1 check-in They are located within ...</td>\n",
       "      <td>4.0 star rating</td>\n",
       "      <td>4</td>\n",
       "    </tr>\n",
       "  </tbody>\n",
       "</table>\n",
       "</div>"
      ],
      "text/plain": [
       "                  coffee_shop_name  \\\n",
       "0  The Factory - Cafe With a Soul    \n",
       "1  The Factory - Cafe With a Soul    \n",
       "2  The Factory - Cafe With a Soul    \n",
       "3  The Factory - Cafe With a Soul    \n",
       "4  The Factory - Cafe With a Soul    \n",
       "\n",
       "                                    full_review_text        star_rating  \\\n",
       "0   11/25/2016 1 check-in Love love loved the atm...   5.0 star rating    \n",
       "1   12/2/2016 Listed in Date Night: Austin, Ambia...   4.0 star rating    \n",
       "2   11/30/2016 1 check-in Listed in Brunch Spots ...   4.0 star rating    \n",
       "3   11/25/2016 Very cool decor! Good drinks Nice ...   2.0 star rating    \n",
       "4   12/3/2016 1 check-in They are located within ...   4.0 star rating    \n",
       "\n",
       "  number_rating  \n",
       "0             5  \n",
       "1             4  \n",
       "2             4  \n",
       "3             2  \n",
       "4             4  "
      ]
     },
     "execution_count": 3,
     "metadata": {},
     "output_type": "execute_result"
    }
   ],
   "source": [
    "\n",
    "import re as re\n",
    "data = pd.read_csv(\"Raw_Data.csv\")\n",
    "# Keeping only the neccessary columns\n",
    "\n",
    "\n",
    "\n",
    "def find_number(text):\n",
    "    num = re.findall(r'[1-9]+',text) #extract number from the rating\n",
    "    return \" \".join(num)\n",
    "data['number_rating']=data['star_rating'].apply(lambda x: find_number(x))\n",
    "\n",
    "#sos, ask Dr. Jones\n",
    "data.head()\n",
    "\n",
    "#number_rating column is a string\n"
   ]
  },
  {
   "cell_type": "code",
   "execution_count": 4,
   "id": "eb698e38-b4be-46b9-9868-a38e328f4cd8",
   "metadata": {},
   "outputs": [
    {
     "name": "stdout",
     "output_type": "stream",
     "text": [
      "Requirement already satisfied: vaderSentiment in /Users/syasyaismail/opt/anaconda3/lib/python3.8/site-packages (3.3.2)\n",
      "Requirement already satisfied: requests in /Users/syasyaismail/opt/anaconda3/lib/python3.8/site-packages (from vaderSentiment) (2.25.1)\n",
      "Requirement already satisfied: certifi>=2017.4.17 in /Users/syasyaismail/opt/anaconda3/lib/python3.8/site-packages (from requests->vaderSentiment) (2021.10.8)\n",
      "Requirement already satisfied: idna<3,>=2.5 in /Users/syasyaismail/opt/anaconda3/lib/python3.8/site-packages (from requests->vaderSentiment) (2.10)\n",
      "Requirement already satisfied: urllib3<1.27,>=1.21.1 in /Users/syasyaismail/opt/anaconda3/lib/python3.8/site-packages (from requests->vaderSentiment) (1.26.4)\n",
      "Requirement already satisfied: chardet<5,>=3.0.2 in /Users/syasyaismail/opt/anaconda3/lib/python3.8/site-packages (from requests->vaderSentiment) (4.0.0)\n"
     ]
    }
   ],
   "source": [
    "! pip install vaderSentiment"
   ]
  },
  {
   "cell_type": "code",
   "execution_count": 5,
   "id": "1b41621f-625a-470d-8df9-005fdfb22f54",
   "metadata": {},
   "outputs": [],
   "source": [
    "from vaderSentiment.vaderSentiment import SentimentIntensityAnalyzer\n",
    "\n",
    "analyzer = SentimentIntensityAnalyzer()\n",
    "#Add VADER metrics to dataframe\n",
    "data['desc'] = data['full_review_text'].astype(str)\n",
    "#Add VADER metrics to dataframe\n",
    "data['compound'] = [analyzer.polarity_scores(v)['compound'] for v in data['desc']]\n",
    "data['neg'] = [analyzer.polarity_scores(v)['neg'] for v in data['desc']]\n",
    "data['neu'] = [analyzer.polarity_scores(v)['neu'] for v in data['desc']]\n",
    "data['pos'] = [analyzer.polarity_scores(v)['pos'] for v in data['desc']]"
   ]
  },
  {
   "cell_type": "code",
   "execution_count": 6,
   "id": "af51b36c-7fb0-467c-a501-ab4a40dd243f",
   "metadata": {},
   "outputs": [
    {
     "data": {
      "text/html": [
       "<div>\n",
       "<style scoped>\n",
       "    .dataframe tbody tr th:only-of-type {\n",
       "        vertical-align: middle;\n",
       "    }\n",
       "\n",
       "    .dataframe tbody tr th {\n",
       "        vertical-align: top;\n",
       "    }\n",
       "\n",
       "    .dataframe thead th {\n",
       "        text-align: right;\n",
       "    }\n",
       "</style>\n",
       "<table border=\"1\" class=\"dataframe\">\n",
       "  <thead>\n",
       "    <tr style=\"text-align: right;\">\n",
       "      <th></th>\n",
       "      <th>coffee_shop_name</th>\n",
       "      <th>full_review_text</th>\n",
       "      <th>star_rating</th>\n",
       "      <th>number_rating</th>\n",
       "      <th>desc</th>\n",
       "      <th>compound</th>\n",
       "      <th>neg</th>\n",
       "      <th>neu</th>\n",
       "      <th>pos</th>\n",
       "    </tr>\n",
       "  </thead>\n",
       "  <tbody>\n",
       "    <tr>\n",
       "      <th>0</th>\n",
       "      <td>The Factory - Cafe With a Soul</td>\n",
       "      <td>11/25/2016 1 check-in Love love loved the atm...</td>\n",
       "      <td>5.0 star rating</td>\n",
       "      <td>5</td>\n",
       "      <td>11/25/2016 1 check-in Love love loved the atm...</td>\n",
       "      <td>0.9457</td>\n",
       "      <td>0.000</td>\n",
       "      <td>0.815</td>\n",
       "      <td>0.185</td>\n",
       "    </tr>\n",
       "    <tr>\n",
       "      <th>1</th>\n",
       "      <td>The Factory - Cafe With a Soul</td>\n",
       "      <td>12/2/2016 Listed in Date Night: Austin, Ambia...</td>\n",
       "      <td>4.0 star rating</td>\n",
       "      <td>4</td>\n",
       "      <td>12/2/2016 Listed in Date Night: Austin, Ambia...</td>\n",
       "      <td>0.9415</td>\n",
       "      <td>0.000</td>\n",
       "      <td>0.697</td>\n",
       "      <td>0.303</td>\n",
       "    </tr>\n",
       "    <tr>\n",
       "      <th>2</th>\n",
       "      <td>The Factory - Cafe With a Soul</td>\n",
       "      <td>11/30/2016 1 check-in Listed in Brunch Spots ...</td>\n",
       "      <td>4.0 star rating</td>\n",
       "      <td>4</td>\n",
       "      <td>11/30/2016 1 check-in Listed in Brunch Spots ...</td>\n",
       "      <td>0.9936</td>\n",
       "      <td>0.004</td>\n",
       "      <td>0.828</td>\n",
       "      <td>0.168</td>\n",
       "    </tr>\n",
       "    <tr>\n",
       "      <th>3</th>\n",
       "      <td>The Factory - Cafe With a Soul</td>\n",
       "      <td>11/25/2016 Very cool decor! Good drinks Nice ...</td>\n",
       "      <td>2.0 star rating</td>\n",
       "      <td>2</td>\n",
       "      <td>11/25/2016 Very cool decor! Good drinks Nice ...</td>\n",
       "      <td>0.8047</td>\n",
       "      <td>0.090</td>\n",
       "      <td>0.731</td>\n",
       "      <td>0.179</td>\n",
       "    </tr>\n",
       "    <tr>\n",
       "      <th>4</th>\n",
       "      <td>The Factory - Cafe With a Soul</td>\n",
       "      <td>12/3/2016 1 check-in They are located within ...</td>\n",
       "      <td>4.0 star rating</td>\n",
       "      <td>4</td>\n",
       "      <td>12/3/2016 1 check-in They are located within ...</td>\n",
       "      <td>0.9393</td>\n",
       "      <td>0.015</td>\n",
       "      <td>0.850</td>\n",
       "      <td>0.135</td>\n",
       "    </tr>\n",
       "  </tbody>\n",
       "</table>\n",
       "</div>"
      ],
      "text/plain": [
       "                  coffee_shop_name  \\\n",
       "0  The Factory - Cafe With a Soul    \n",
       "1  The Factory - Cafe With a Soul    \n",
       "2  The Factory - Cafe With a Soul    \n",
       "3  The Factory - Cafe With a Soul    \n",
       "4  The Factory - Cafe With a Soul    \n",
       "\n",
       "                                    full_review_text        star_rating  \\\n",
       "0   11/25/2016 1 check-in Love love loved the atm...   5.0 star rating    \n",
       "1   12/2/2016 Listed in Date Night: Austin, Ambia...   4.0 star rating    \n",
       "2   11/30/2016 1 check-in Listed in Brunch Spots ...   4.0 star rating    \n",
       "3   11/25/2016 Very cool decor! Good drinks Nice ...   2.0 star rating    \n",
       "4   12/3/2016 1 check-in They are located within ...   4.0 star rating    \n",
       "\n",
       "  number_rating                                               desc  compound  \\\n",
       "0             5   11/25/2016 1 check-in Love love loved the atm...    0.9457   \n",
       "1             4   12/2/2016 Listed in Date Night: Austin, Ambia...    0.9415   \n",
       "2             4   11/30/2016 1 check-in Listed in Brunch Spots ...    0.9936   \n",
       "3             2   11/25/2016 Very cool decor! Good drinks Nice ...    0.8047   \n",
       "4             4   12/3/2016 1 check-in They are located within ...    0.9393   \n",
       "\n",
       "     neg    neu    pos  \n",
       "0  0.000  0.815  0.185  \n",
       "1  0.000  0.697  0.303  \n",
       "2  0.004  0.828  0.168  \n",
       "3  0.090  0.731  0.179  \n",
       "4  0.015  0.850  0.135  "
      ]
     },
     "execution_count": 6,
     "metadata": {},
     "output_type": "execute_result"
    }
   ],
   "source": [
    "data.head()"
   ]
  },
  {
   "cell_type": "code",
   "execution_count": 20,
   "id": "0bf6c437-9e96-40c4-ad4d-ba0b4ddaead4",
   "metadata": {},
   "outputs": [
    {
     "data": {
      "text/html": [
       "<div>\n",
       "<style scoped>\n",
       "    .dataframe tbody tr th:only-of-type {\n",
       "        vertical-align: middle;\n",
       "    }\n",
       "\n",
       "    .dataframe tbody tr th {\n",
       "        vertical-align: top;\n",
       "    }\n",
       "\n",
       "    .dataframe thead th {\n",
       "        text-align: right;\n",
       "    }\n",
       "</style>\n",
       "<table border=\"1\" class=\"dataframe\">\n",
       "  <thead>\n",
       "    <tr style=\"text-align: right;\">\n",
       "      <th></th>\n",
       "      <th>desc</th>\n",
       "      <th>number_rating</th>\n",
       "    </tr>\n",
       "    <tr>\n",
       "      <th>date</th>\n",
       "      <th></th>\n",
       "      <th></th>\n",
       "    </tr>\n",
       "  </thead>\n",
       "  <tbody>\n",
       "    <tr>\n",
       "      <th>2016-11-25</th>\n",
       "      <td>11/25/2016 1 check-in Love love loved the atm...</td>\n",
       "      <td>5</td>\n",
       "    </tr>\n",
       "    <tr>\n",
       "      <th>2016-12-02</th>\n",
       "      <td>12/2/2016 Listed in Date Night: Austin, Ambia...</td>\n",
       "      <td>4</td>\n",
       "    </tr>\n",
       "    <tr>\n",
       "      <th>2016-11-30</th>\n",
       "      <td>11/30/2016 1 check-in Listed in Brunch Spots ...</td>\n",
       "      <td>4</td>\n",
       "    </tr>\n",
       "    <tr>\n",
       "      <th>2016-11-25</th>\n",
       "      <td>11/25/2016 Very cool decor! Good drinks Nice ...</td>\n",
       "      <td>2</td>\n",
       "    </tr>\n",
       "    <tr>\n",
       "      <th>2016-12-03</th>\n",
       "      <td>12/3/2016 1 check-in They are located within ...</td>\n",
       "      <td>4</td>\n",
       "    </tr>\n",
       "  </tbody>\n",
       "</table>\n",
       "</div>"
      ],
      "text/plain": [
       "                                                         desc  number_rating\n",
       "date                                                                        \n",
       "2016-11-25   11/25/2016 1 check-in Love love loved the atm...              5\n",
       "2016-12-02   12/2/2016 Listed in Date Night: Austin, Ambia...              4\n",
       "2016-11-30   11/30/2016 1 check-in Listed in Brunch Spots ...              4\n",
       "2016-11-25   11/25/2016 Very cool decor! Good drinks Nice ...              2\n",
       "2016-12-03   12/3/2016 1 check-in They are located within ...              4"
      ]
     },
     "execution_count": 20,
     "metadata": {},
     "output_type": "execute_result"
    }
   ],
   "source": [
    "#sort compound score by date, to see if there is\n",
    "#pulll date out from the \"full_review_text\" and then convert to data step 1\n",
    "#split full text review by finding the first space, create a column for this step 1.5\n",
    "#reindex the date step 2\n",
    "#data[\"date\"] = pd.to_datetime(data[\"full_review_text\"]) #extract the date and place it in \"col\"\n",
    "\n",
    "\n",
    "data[[\"date\", \"full_review_text\"]] = [i.split(\" \",1) for i in data[\"full_review_text\"]]\n",
    "data[\"date\"] = pd.to_datetime(data[\"date\"])\n",
    "data.set_index(\"date\", inplace=True) #makes the date the x axis\n",
    "\n",
    "data[[\"desc\", \"number_rating\"]].head()"
   ]
  },
  {
   "cell_type": "code",
   "execution_count": 21,
   "id": "16cdf761-a4a4-472e-89cf-914123eb1ba7",
   "metadata": {},
   "outputs": [
    {
     "data": {
      "text/plain": [
       "<AxesSubplot:xlabel='date'>"
      ]
     },
     "execution_count": 21,
     "metadata": {},
     "output_type": "execute_result"
    },
    {
     "data": {
      "image/png": "[encoded data removed]",
      "text/plain": [
       "<Figure size 432x288 with 1 Axes>"
      ]
     },
     "metadata": {
      "needs_background": "light"
     },
     "output_type": "display_data"
    }
   ],
   "source": [
    "\n",
    "data.plot()\n"
   ]
  },
  {
   "cell_type": "code",
   "execution_count": 48,
   "id": "2140dc21-bff3-4e1a-934e-ac29c40171f5",
   "metadata": {},
   "outputs": [],
   "source": [
    "compound_data = data.compound.resample('M').mean().plot"
   ]
  },
  {
   "cell_type": "code",
   "execution_count": 25,
   "id": "7f05ab66-eaa7-4eec-b2b4-e4818524beca",
   "metadata": {},
   "outputs": [
    {
     "data": {
      "image/png": "[encoded data removed]",
      "text/plain": [
       "<Figure size 432x288 with 1 Axes>"
      ]
     },
     "metadata": {
      "needs_background": "light"
     },
     "output_type": "display_data"
    }
   ],
   "source": [
    "pos_data = data.pos.resample('Y').mean().plot()\n"
   ]
  },
  {
   "cell_type": "code",
   "execution_count": 26,
   "id": "1a31c04c-c540-4e22-a212-9f750e3d0a59",
   "metadata": {},
   "outputs": [
    {
     "data": {
      "image/png": "[encoded data removed]",
      "text/plain": [
       "<Figure size 432x288 with 1 Axes>"
      ]
     },
     "metadata": {
      "needs_background": "light"
     },
     "output_type": "display_data"
    }
   ],
   "source": [
    "neg_data = data.neg.resample('Y').mean().plot()"
   ]
  },
  {
   "cell_type": "code",
   "execution_count": 29,
   "id": "e1e0fc41-47cf-4873-85c2-d9b2e7cb074b",
   "metadata": {},
   "outputs": [
    {
     "data": {
      "text/plain": [
       "<AxesSubplot:xlabel='date'>"
      ]
     },
     "execution_count": 29,
     "metadata": {},
     "output_type": "execute_result"
    },
    {
     "data": {
      "image/png": "[encoded data removed]",
      "text/plain": [
       "<Figure size 432x288 with 1 Axes>"
      ]
     },
     "metadata": {
      "needs_background": "light"
     },
     "output_type": "display_data"
    }
   ],
   "source": [
    "vars = ['pos', 'neg', 'compound']\n",
    "data[vars].resample('Y').mean().plot()"
   ]
  },
  {
   "cell_type": "code",
   "execution_count": 19,
   "id": "77d72773-aff5-4ff2-a2c4-952721646f7d",
   "metadata": {},
   "outputs": [],
   "source": [
    "#for i, x in data.interrows():\n",
    "    #if -0.5 >= data.loc[i, 'compound'] < 0 : \n",
    "        #data.loc[i, 'compound'] = 1\n",
    "    #elif 0 >= data.loc[i, 'compound'] <= 0.2 : \n",
    "        #data.loc[i, 'compound'] = 2\n",
    "    #elif 0.2 > data.loc[i, 'compound'] <= 0.3 : \n",
    "        #data.loc[i, 'compound'] = 3\n",
    "    #elif 0.3 > data.loc[i, 'compound'] <=0.6 : \n",
    "        #data.loc[i, 'compound'] = 4\n",
    "    #else : \n",
    "        #data.loc[i, 'compound'] = 5\n",
    "\n",
    "#SOS: trouble converting the compound to the likert scale \n",
    "        "
   ]
  },
  {
   "cell_type": "code",
   "execution_count": 22,
   "id": "1dc8324e-3009-4ab2-866c-2a37f1937898",
   "metadata": {},
   "outputs": [
    {
     "data": {
      "text/html": [
       "<div>\n",
       "<style scoped>\n",
       "    .dataframe tbody tr th:only-of-type {\n",
       "        vertical-align: middle;\n",
       "    }\n",
       "\n",
       "    .dataframe tbody tr th {\n",
       "        vertical-align: top;\n",
       "    }\n",
       "\n",
       "    .dataframe thead th {\n",
       "        text-align: right;\n",
       "    }\n",
       "</style>\n",
       "<table border=\"1\" class=\"dataframe\">\n",
       "  <thead>\n",
       "    <tr style=\"text-align: right;\">\n",
       "      <th></th>\n",
       "      <th>coffee_shop_name</th>\n",
       "      <th>full_review_text</th>\n",
       "      <th>star_rating</th>\n",
       "      <th>number_rating</th>\n",
       "      <th>desc</th>\n",
       "      <th>compound</th>\n",
       "      <th>neg</th>\n",
       "      <th>neu</th>\n",
       "      <th>pos</th>\n",
       "      <th>adjusted_score</th>\n",
       "    </tr>\n",
       "    <tr>\n",
       "      <th>date</th>\n",
       "      <th></th>\n",
       "      <th></th>\n",
       "      <th></th>\n",
       "      <th></th>\n",
       "      <th></th>\n",
       "      <th></th>\n",
       "      <th></th>\n",
       "      <th></th>\n",
       "      <th></th>\n",
       "      <th></th>\n",
       "    </tr>\n",
       "  </thead>\n",
       "  <tbody>\n",
       "    <tr>\n",
       "      <th>2016-11-25</th>\n",
       "      <td>The Factory - Cafe With a Soul</td>\n",
       "      <td>1 check-in Love love loved the atmosphere! Eve...</td>\n",
       "      <td>5.0 star rating</td>\n",
       "      <td>5</td>\n",
       "      <td>11/25/2016 1 check-in Love love loved the atm...</td>\n",
       "      <td>0.9457</td>\n",
       "      <td>0.000</td>\n",
       "      <td>0.815</td>\n",
       "      <td>0.185</td>\n",
       "      <td>5</td>\n",
       "    </tr>\n",
       "    <tr>\n",
       "      <th>2016-12-02</th>\n",
       "      <td>The Factory - Cafe With a Soul</td>\n",
       "      <td>Listed in Date Night: Austin, Ambiance in Aust...</td>\n",
       "      <td>4.0 star rating</td>\n",
       "      <td>4</td>\n",
       "      <td>12/2/2016 Listed in Date Night: Austin, Ambia...</td>\n",
       "      <td>0.9415</td>\n",
       "      <td>0.000</td>\n",
       "      <td>0.697</td>\n",
       "      <td>0.303</td>\n",
       "      <td>5</td>\n",
       "    </tr>\n",
       "    <tr>\n",
       "      <th>2016-11-30</th>\n",
       "      <td>The Factory - Cafe With a Soul</td>\n",
       "      <td>1 check-in Listed in Brunch Spots I loved the ...</td>\n",
       "      <td>4.0 star rating</td>\n",
       "      <td>4</td>\n",
       "      <td>11/30/2016 1 check-in Listed in Brunch Spots ...</td>\n",
       "      <td>0.9936</td>\n",
       "      <td>0.004</td>\n",
       "      <td>0.828</td>\n",
       "      <td>0.168</td>\n",
       "      <td>5</td>\n",
       "    </tr>\n",
       "    <tr>\n",
       "      <th>2016-11-25</th>\n",
       "      <td>The Factory - Cafe With a Soul</td>\n",
       "      <td>Very cool decor! Good drinks Nice seating  How...</td>\n",
       "      <td>2.0 star rating</td>\n",
       "      <td>2</td>\n",
       "      <td>11/25/2016 Very cool decor! Good drinks Nice ...</td>\n",
       "      <td>0.8047</td>\n",
       "      <td>0.090</td>\n",
       "      <td>0.731</td>\n",
       "      <td>0.179</td>\n",
       "      <td>5</td>\n",
       "    </tr>\n",
       "    <tr>\n",
       "      <th>2016-12-03</th>\n",
       "      <td>The Factory - Cafe With a Soul</td>\n",
       "      <td>1 check-in They are located within the Northcr...</td>\n",
       "      <td>4.0 star rating</td>\n",
       "      <td>4</td>\n",
       "      <td>12/3/2016 1 check-in They are located within ...</td>\n",
       "      <td>0.9393</td>\n",
       "      <td>0.015</td>\n",
       "      <td>0.850</td>\n",
       "      <td>0.135</td>\n",
       "      <td>5</td>\n",
       "    </tr>\n",
       "  </tbody>\n",
       "</table>\n",
       "</div>"
      ],
      "text/plain": [
       "                           coffee_shop_name  \\\n",
       "date                                          \n",
       "2016-11-25  The Factory - Cafe With a Soul    \n",
       "2016-12-02  The Factory - Cafe With a Soul    \n",
       "2016-11-30  The Factory - Cafe With a Soul    \n",
       "2016-11-25  The Factory - Cafe With a Soul    \n",
       "2016-12-03  The Factory - Cafe With a Soul    \n",
       "\n",
       "                                             full_review_text  \\\n",
       "date                                                            \n",
       "2016-11-25  1 check-in Love love loved the atmosphere! Eve...   \n",
       "2016-12-02  Listed in Date Night: Austin, Ambiance in Aust...   \n",
       "2016-11-30  1 check-in Listed in Brunch Spots I loved the ...   \n",
       "2016-11-25  Very cool decor! Good drinks Nice seating  How...   \n",
       "2016-12-03  1 check-in They are located within the Northcr...   \n",
       "\n",
       "                  star_rating  number_rating  \\\n",
       "date                                           \n",
       "2016-11-25   5.0 star rating               5   \n",
       "2016-12-02   4.0 star rating               4   \n",
       "2016-11-30   4.0 star rating               4   \n",
       "2016-11-25   2.0 star rating               2   \n",
       "2016-12-03   4.0 star rating               4   \n",
       "\n",
       "                                                         desc  compound  \\\n",
       "date                                                                      \n",
       "2016-11-25   11/25/2016 1 check-in Love love loved the atm...    0.9457   \n",
       "2016-12-02   12/2/2016 Listed in Date Night: Austin, Ambia...    0.9415   \n",
       "2016-11-30   11/30/2016 1 check-in Listed in Brunch Spots ...    0.9936   \n",
       "2016-11-25   11/25/2016 Very cool decor! Good drinks Nice ...    0.8047   \n",
       "2016-12-03   12/3/2016 1 check-in They are located within ...    0.9393   \n",
       "\n",
       "              neg    neu    pos adjusted_score  \n",
       "date                                            \n",
       "2016-11-25  0.000  0.815  0.185              5  \n",
       "2016-12-02  0.000  0.697  0.303              5  \n",
       "2016-11-30  0.004  0.828  0.168              5  \n",
       "2016-11-25  0.090  0.731  0.179              5  \n",
       "2016-12-03  0.015  0.850  0.135              5  "
      ]
     },
     "execution_count": 22,
     "metadata": {},
     "output_type": "execute_result"
    }
   ],
   "source": [
    "data[\"adjusted_score\"] = pd.cut(data.compound, 5, labels = [1, 2, 3, 4, 5]) #does if statements for me \n",
    "\n",
    "data.head()"
   ]
  },
  {
   "cell_type": "code",
   "execution_count": 18,
   "id": "92faa89e-fea6-4f10-ac47-3b8b0f775c6b",
   "metadata": {},
   "outputs": [],
   "source": [
    "from sklearn.metrics import cohen_kappa_score\n",
    "\n",
    "# x and a y column make sure they are the same scale\n",
    "# create bins for polarity scores i.e. 0 = 3 on likert scale, .5 = 5 on stars \n",
    "# or convert likert score to the polarity one \n",
    "# or max min scale to scale evrything from 0-1\n",
    "# kappa expecting data to be ordinal\n",
    "# make the x, y the columns that i have\n",
    "# score is the amount of agreement between the two columns on a scale of 0-1\n",
    "# i.e. if kappa = 1 both columns are perfectly matched, if kappa = 0 no agreement\n",
    "# question: as a company how much do we need to care about reading the comments? \n",
    "# if it is low, there is a discrepancy of what people are saying and the rating they are giving, tests reliability of the likert scores. \n",
    "\n",
    "\n"
   ]
  },
  {
   "cell_type": "code",
   "execution_count": 14,
   "id": "5059f4b2-26c7-48f4-bf73-e4dea25d3fcb",
   "metadata": {},
   "outputs": [
    {
     "data": {
      "text/plain": [
       "coffee_shop_name      object\n",
       "full_review_text      object\n",
       "star_rating           object\n",
       "number_rating         object\n",
       "desc                  object\n",
       "compound             float64\n",
       "neg                  float64\n",
       "neu                  float64\n",
       "pos                  float64\n",
       "adjusted_score      category\n",
       "dtype: object"
      ]
     },
     "execution_count": 14,
     "metadata": {},
     "output_type": "execute_result"
    }
   ],
   "source": [
    "data.dtypes #recast number_rating and adjusted_scores "
   ]
  },
  {
   "cell_type": "code",
   "execution_count": 16,
   "id": "1f1c34fe-89b0-4f0a-ad53-bc03504f0301",
   "metadata": {},
   "outputs": [],
   "source": [
    "data[\"number_rating\"] = data[\"number_rating\"].astype(int)\n",
    "data[\"adjusted_score\"] = data[\"adjusted_score\"].astype(int)"
   ]
  },
  {
   "cell_type": "code",
   "execution_count": 17,
   "id": "bb184190-eb90-457f-9cba-810f86611c44",
   "metadata": {},
   "outputs": [
    {
     "data": {
      "text/plain": [
       "0.10492016968429385"
      ]
     },
     "execution_count": 17,
     "metadata": {},
     "output_type": "execute_result"
    }
   ],
   "source": [
    "cohen_kappa_score(data[\"number_rating\"], data[\"adjusted_score\"])"
   ]
  },
  {
   "cell_type": "code",
   "execution_count": null,
   "id": "43c0ac2a",
   "metadata": {},
   "outputs": [],
   "source": []
  },
  {
   "cell_type": "code",
   "execution_count": null,
   "id": "3338be4b-8d8c-4c39-9dc5-5d7ed4858ff4",
   "metadata": {},
   "outputs": [],
   "source": []
  }
 ],
 "metadata": {
  "kernelspec": {
   "display_name": "Python 3",
   "language": "python",
   "name": "python3"
  },
  "language_info": {
   "codemirror_mode": {
    "name": "ipython",
    "version": 3
   },
   "file_extension": ".py",
   "mimetype": "text/x-python",
   "name": "python",
   "nbconvert_exporter": "python",
   "pygments_lexer": "ipython3",
   "version": "3.8.8"
  }
 },
 "nbformat": 4,
 "nbformat_minor": 5
}
